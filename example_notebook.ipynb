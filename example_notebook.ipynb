{
 "cells": [
  {
   "cell_type": "code",
   "execution_count": 1,
   "metadata": {},
   "outputs": [],
   "source": [
    "# Libs\n",
    "import matplotlib.pyplot as plt\n",
    "import numpy as np\n",
    "from scipy.stats import probplot\n",
    "import yulesimon as ys"
   ]
  },
  {
   "cell_type": "code",
   "execution_count": 2,
   "metadata": {},
   "outputs": [
    {
     "data": {
      "image/png": "[encoded data removed]",
      "text/plain": [
       "<Figure size 432x288 with 2 Axes>"
      ]
     },
     "metadata": {
      "needs_background": "light"
     },
     "output_type": "display_data"
    }
   ],
   "source": [
    "# Get 5 years of Microsoft log returns from Yahoo and plot results\n",
    "security = 'MSFT'\n",
    "nyears = 5\n",
    "closing_prices, log_returns, dates = ys.GetYahooFeed(security,nyears)\n",
    "\n",
    "# Make Figure(s)\n",
    "ax1 = plt.subplot(211)\n",
    "ax1.plot(dates,closing_prices,color='b')\n",
    "ax1.grid(True)\n",
    "ax1.set_ylabel('Daily Closing Price')\n",
    "plt.title(security)\n",
    "\n",
    "ax2 = plt.subplot(212)\n",
    "ax2.plot(dates[1:],log_returns,color='r')\n",
    "ax2.grid(True)\n",
    "ax2.set_xlabel('Year')\n",
    "ax2.set_ylabel('Daily Log Returns')\n",
    "\n",
    "plt.show()"
   ]
  },
  {
   "cell_type": "code",
   "execution_count": 3,
   "metadata": {},
   "outputs": [],
   "source": [
    "# Create a Yule-Simon time series object\n",
    "Chain = ys.TimeSeries(log_returns * 100,a0=4.0,b0=4.0)"
   ]
  },
  {
   "cell_type": "code",
   "execution_count": null,
   "metadata": {},
   "outputs": [
    {
     "name": "stdout",
     "output_type": "stream",
     "text": [
      "..................................................................................................."
     ]
    }
   ],
   "source": [
    "# Do Inference \n",
    "nsteps = 2000\n",
    "history = Chain.step(nsteps)"
   ]
  },
  {
   "cell_type": "code",
   "execution_count": null,
   "metadata": {},
   "outputs": [],
   "source": [
    "# Check convergence by plotting the log-likelihood\n",
    "ax3 = plt.subplot()\n",
    "ax3.plot(history.log_likelihood)\n",
    "ax3.set_xlabel('Iteration')\n",
    "ax3.set_ylabel('Log-Likelihood')\n",
    "ax3.grid(True)\n",
    "plt.show()"
   ]
  },
  {
   "cell_type": "code",
   "execution_count": null,
   "metadata": {},
   "outputs": [],
   "source": [
    "# Check goodness of fit by plotting the p-values\n",
    "ax3 = plt.subplot()\n",
    "ax3.semilogy(history.pvalue)\n",
    "ax3.set_xlabel('Iteration')\n",
    "ax3.set_ylabel('p-Values')\n",
    "ax3.grid(True)\n",
    "plt.show()"
   ]
  },
  {
   "cell_type": "code",
   "execution_count": null,
   "metadata": {},
   "outputs": [],
   "source": [
    "\n",
    "plt.plot(Chain.data-Chain.mu,'r')\n",
    "plt.show()"
   ]
  },
  {
   "cell_type": "code",
   "execution_count": null,
   "metadata": {},
   "outputs": [],
   "source": [
    "plt.plot(history.process_noise)\n",
    "plt.show()"
   ]
  },
  {
   "cell_type": "code",
   "execution_count": null,
   "metadata": {},
   "outputs": [],
   "source": [
    "plt.plot(np.diff(history.mean[:,-1]))\n",
    "plt.show()"
   ]
  },
  {
   "cell_type": "code",
   "execution_count": null,
   "metadata": {},
   "outputs": [],
   "source": [
    "burnin = nsteps/2.0\n",
    "downsample = 10\n",
    "fig1, ax1 = plt.subplots(2,1)\n",
    "ax1[0].plot(Chain.data)\n",
    "ax1[0].plot(+2 * ys.ExpectedValue(history.std_deviation,burnin,downsample))\n",
    "ax1[0].plot(-2 * ys.ExpectedValue(history.std_deviation,burnin,downsample))\n",
    "ax1[0].grid(True)\n",
    "ax1[0].autoscale(tight=True)\n",
    "ax1[1].imshow(np.transpose(history.boundaries))\n",
    "ax1[1].set_aspect('auto')\n",
    "plt.show()\n"
   ]
  },
  {
   "cell_type": "code",
   "execution_count": null,
   "metadata": {},
   "outputs": [],
   "source": [
    "fig3, ax3 = plt.subplots(1,2)\n",
    "sigma = ys.ExpectedValue(history.std_deviation,burnin,downsample)\n",
    "res = probplot(log_returns/np.std(log_returns), plot=ax3[0])\n",
    "res = probplot(log_returns/sigma, plot=ax3[1])\n",
    "ax3[0].grid(True)\n",
    "ax3[1].grid(True)\n",
    "plt.show()\n"
   ]
  },
  {
   "cell_type": "code",
   "execution_count": null,
   "metadata": {},
   "outputs": [],
   "source": [
    "fig,ax = plt.subplots()\n",
    "ax.plot(history.hyperparameter_a0,history.hyperparameter_b0)\n",
    "ax.grid(True)\n",
    "plt.show()"
   ]
  },
  {
   "cell_type": "code",
   "execution_count": null,
   "metadata": {},
   "outputs": [],
   "source": [
    "fig,ax = plt.subplots(2,1)\n",
    "ax[0].plot(history.hyperparameter_a0)\n",
    "ax[1].plot(history.hyperparameter_b0)\n",
    "plt.show()"
   ]
  },
  {
   "cell_type": "code",
   "execution_count": null,
   "metadata": {},
   "outputs": [],
   "source": [
    "Chain.b0/Chain.a0"
   ]
  },
  {
   "cell_type": "code",
   "execution_count": null,
   "metadata": {},
   "outputs": [],
   "source": [
    "np.var(log_returns)"
   ]
  },
  {
   "cell_type": "code",
   "execution_count": null,
   "metadata": {},
   "outputs": [],
   "source": []
  }
 ],
 "metadata": {
  "kernelspec": {
   "display_name": "Python 3",
   "language": "python",
   "name": "python3"
  },
  "language_info": {
   "codemirror_mode": {
    "name": "ipython",
    "version": 3
   },
   "file_extension": ".py",
   "mimetype": "text/x-python",
   "name": "python",
   "nbconvert_exporter": "python",
   "pygments_lexer": "ipython3",
   "version": "3.9.1"
  }
 },
 "nbformat": 4,
 "nbformat_minor": 4
}
